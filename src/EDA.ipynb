{
 "cells": [
  {
   "cell_type": "markdown",
   "metadata": {},
   "source": [
    "# 1. Import"
   ]
  },
  {
   "cell_type": "code",
   "execution_count": 748,
   "metadata": {},
   "outputs": [],
   "source": [
    "import pandas as pd\n",
    "import numpy as np\n",
    "\n",
    "import missingno as msno"
   ]
  },
  {
   "cell_type": "code",
   "execution_count": 749,
   "metadata": {},
   "outputs": [],
   "source": [
    "import matplotlib.font_manager as fm\n",
    "import matplotlib as mpl\n",
    "font_path = './NanumGothicLight.otf'\n",
    "fm.fontManager.addfont(font_path) \n",
    "mpl.rcParams['font.family'] = 'NanumGothicOTF'\n",
    "mpl.rcParams['axes.unicode_minus'] = False\n",
    "\n",
    "import warnings\n",
    "warnings.filterwarnings('ignore')\n",
    "\n",
    "pd.set_option('display.max_columns', None)"
   ]
  },
  {
   "cell_type": "markdown",
   "metadata": {},
   "source": [
    "# 2. Data"
   ]
  },
  {
   "cell_type": "code",
   "execution_count": 750,
   "metadata": {},
   "outputs": [],
   "source": [
    "path_train = \"/workspace/Storage/template_structured/Data/raw/train.csv\"\n",
    "path_test = \"/workspace/Storage/template_structured/Data/raw/test.csv\"\n"
   ]
  },
  {
   "cell_type": "code",
   "execution_count": 751,
   "metadata": {},
   "outputs": [],
   "source": [
    "train = pd.read_csv(path_train)\n",
    "test = pd.read_csv(path_test)"
   ]
  },
  {
   "cell_type": "markdown",
   "metadata": {},
   "source": [
    "# 3. Objective"
   ]
  },
  {
   "cell_type": "markdown",
   "metadata": {},
   "source": [
    "EDA"
   ]
  },
  {
   "cell_type": "markdown",
   "metadata": {},
   "source": [
    "# 4. Analysis"
   ]
  },
  {
   "cell_type": "markdown",
   "metadata": {},
   "source": [
    "## 4.1 overview"
   ]
  },
  {
   "cell_type": "code",
   "execution_count": 752,
   "metadata": {},
   "outputs": [
    {
     "data": {
      "text/plain": [
       "Index(['UID', '주거 형태', '연간 소득', '현재 직장 근속 연수', '체납 세금 압류 횟수', '개설된 신용계좌 수',\n",
       "       '신용 거래 연수', '최대 신용한도', '신용 문제 발생 횟수', '마지막 연체 이후 경과 개월 수', '개인 파산 횟수',\n",
       "       '대출 목적', '대출 상환 기간', '현재 대출 잔액', '현재 미상환 신용액', '월 상환 부채액', '신용 점수',\n",
       "       '채무 불이행 여부'],\n",
       "      dtype='object')"
      ]
     },
     "execution_count": 752,
     "metadata": {},
     "output_type": "execute_result"
    }
   ],
   "source": [
    "train.columns"
   ]
  },
  {
   "cell_type": "code",
   "execution_count": 753,
   "metadata": {},
   "outputs": [
    {
     "data": {
      "text/html": [
       "<div>\n",
       "<style scoped>\n",
       "    .dataframe tbody tr th:only-of-type {\n",
       "        vertical-align: middle;\n",
       "    }\n",
       "\n",
       "    .dataframe tbody tr th {\n",
       "        vertical-align: top;\n",
       "    }\n",
       "\n",
       "    .dataframe thead th {\n",
       "        text-align: right;\n",
       "    }\n",
       "</style>\n",
       "<table border=\"1\" class=\"dataframe\">\n",
       "  <thead>\n",
       "    <tr style=\"text-align: right;\">\n",
       "      <th></th>\n",
       "      <th>UID</th>\n",
       "      <th>주거 형태</th>\n",
       "      <th>연간 소득</th>\n",
       "      <th>현재 직장 근속 연수</th>\n",
       "      <th>체납 세금 압류 횟수</th>\n",
       "      <th>개설된 신용계좌 수</th>\n",
       "      <th>신용 거래 연수</th>\n",
       "      <th>최대 신용한도</th>\n",
       "      <th>신용 문제 발생 횟수</th>\n",
       "      <th>마지막 연체 이후 경과 개월 수</th>\n",
       "      <th>개인 파산 횟수</th>\n",
       "      <th>대출 목적</th>\n",
       "      <th>대출 상환 기간</th>\n",
       "      <th>현재 대출 잔액</th>\n",
       "      <th>현재 미상환 신용액</th>\n",
       "      <th>월 상환 부채액</th>\n",
       "      <th>신용 점수</th>\n",
       "      <th>채무 불이행 여부</th>\n",
       "    </tr>\n",
       "  </thead>\n",
       "  <tbody>\n",
       "    <tr>\n",
       "      <th>0</th>\n",
       "      <td>TRAIN_00000</td>\n",
       "      <td>자가</td>\n",
       "      <td>1941337.5</td>\n",
       "      <td>10년 이상</td>\n",
       "      <td>0.0</td>\n",
       "      <td>9</td>\n",
       "      <td>13.4</td>\n",
       "      <td>400597.5</td>\n",
       "      <td>0</td>\n",
       "      <td>24</td>\n",
       "      <td>1</td>\n",
       "      <td>부채 통합</td>\n",
       "      <td>단기 상환</td>\n",
       "      <td>390903.0</td>\n",
       "      <td>225457.5</td>\n",
       "      <td>8806.5</td>\n",
       "      <td>767</td>\n",
       "      <td>0</td>\n",
       "    </tr>\n",
       "  </tbody>\n",
       "</table>\n",
       "</div>"
      ],
      "text/plain": [
       "           UID 주거 형태      연간 소득 현재 직장 근속 연수  체납 세금 압류 횟수  개설된 신용계좌 수  \\\n",
       "0  TRAIN_00000    자가  1941337.5      10년 이상          0.0           9   \n",
       "\n",
       "   신용 거래 연수   최대 신용한도  신용 문제 발생 횟수  마지막 연체 이후 경과 개월 수  개인 파산 횟수  대출 목적  \\\n",
       "0      13.4  400597.5            0                 24         1  부채 통합   \n",
       "\n",
       "  대출 상환 기간  현재 대출 잔액  현재 미상환 신용액  월 상환 부채액  신용 점수  채무 불이행 여부  \n",
       "0    단기 상환  390903.0    225457.5    8806.5    767          0  "
      ]
     },
     "execution_count": 753,
     "metadata": {},
     "output_type": "execute_result"
    }
   ],
   "source": [
    "train.head(1)"
   ]
  },
  {
   "cell_type": "code",
   "execution_count": 754,
   "metadata": {},
   "outputs": [
    {
     "data": {
      "text/plain": [
       "<Axes: >"
      ]
     },
     "execution_count": 754,
     "metadata": {},
     "output_type": "execute_result"
    },
    {
     "data": {
      "image/png": "[encoded data removed]",
      "text/plain": [
       "<Figure size 2500x1000 with 2 Axes>"
      ]
     },
     "metadata": {},
     "output_type": "display_data"
    }
   ],
   "source": [
    "msno.matrix(train)"
   ]
  },
  {
   "cell_type": "code",
   "execution_count": 755,
   "metadata": {},
   "outputs": [
    {
     "data": {
      "text/plain": [
       "<Axes: >"
      ]
     },
     "execution_count": 755,
     "metadata": {},
     "output_type": "execute_result"
    },
    {
     "data": {
      "image/png": "[encoded data removed]",
      "text/plain": [
       "<Figure size 2500x1000 with 2 Axes>"
      ]
     },
     "metadata": {},
     "output_type": "display_data"
    }
   ],
   "source": [
    "msno.matrix(test)"
   ]
  },
  {
   "cell_type": "code",
   "execution_count": 756,
   "metadata": {},
   "outputs": [
    {
     "data": {
      "text/plain": [
       "((10000, 18), (2062, 17))"
      ]
     },
     "execution_count": 756,
     "metadata": {},
     "output_type": "execute_result"
    }
   ],
   "source": [
    "train.shape, test.shape"
   ]
  },
  {
   "cell_type": "markdown",
   "metadata": {},
   "source": [
    "## 4.2 Univariable Analysis"
   ]
  },
  {
   "cell_type": "code",
   "execution_count": 757,
   "metadata": {},
   "outputs": [],
   "source": [
    "output = {}\n",
    "for col in train.columns:\n",
    "    output[col] = {\n",
    "        \"type\": \"\",\n",
    "        \"missingratio\": -1,\n",
    "        \"describe\":{}\n",
    "    }"
   ]
  },
  {
   "cell_type": "code",
   "execution_count": 758,
   "metadata": {},
   "outputs": [
    {
     "data": {
      "text/plain": [
       "{'UID': {'type': '', 'missingratio': -1, 'describe': {}},\n",
       " '주거 형태': {'type': '', 'missingratio': -1, 'describe': {}},\n",
       " '연간 소득': {'type': '', 'missingratio': -1, 'describe': {}},\n",
       " '현재 직장 근속 연수': {'type': '', 'missingratio': -1, 'describe': {}},\n",
       " '체납 세금 압류 횟수': {'type': '', 'missingratio': -1, 'describe': {}},\n",
       " '개설된 신용계좌 수': {'type': '', 'missingratio': -1, 'describe': {}},\n",
       " '신용 거래 연수': {'type': '', 'missingratio': -1, 'describe': {}},\n",
       " '최대 신용한도': {'type': '', 'missingratio': -1, 'describe': {}},\n",
       " '신용 문제 발생 횟수': {'type': '', 'missingratio': -1, 'describe': {}},\n",
       " '마지막 연체 이후 경과 개월 수': {'type': '', 'missingratio': -1, 'describe': {}},\n",
       " '개인 파산 횟수': {'type': '', 'missingratio': -1, 'describe': {}},\n",
       " '대출 목적': {'type': '', 'missingratio': -1, 'describe': {}},\n",
       " '대출 상환 기간': {'type': '', 'missingratio': -1, 'describe': {}},\n",
       " '현재 대출 잔액': {'type': '', 'missingratio': -1, 'describe': {}},\n",
       " '현재 미상환 신용액': {'type': '', 'missingratio': -1, 'describe': {}},\n",
       " '월 상환 부채액': {'type': '', 'missingratio': -1, 'describe': {}},\n",
       " '신용 점수': {'type': '', 'missingratio': -1, 'describe': {}},\n",
       " '채무 불이행 여부': {'type': '', 'missingratio': -1, 'describe': {}}}"
      ]
     },
     "execution_count": 758,
     "metadata": {},
     "output_type": "execute_result"
    }
   ],
   "source": [
    "output"
   ]
  },
  {
   "cell_type": "markdown",
   "metadata": {},
   "source": [
    "### 4.2.1 UID"
   ]
  },
  {
   "cell_type": "code",
   "execution_count": 759,
   "metadata": {},
   "outputs": [],
   "source": [
    "col = \"UID\""
   ]
  },
  {
   "cell_type": "code",
   "execution_count": 760,
   "metadata": {},
   "outputs": [
    {
     "data": {
      "text/plain": [
       "UID\n",
       "TRAIN_09999    1\n",
       "TRAIN_00000    1\n",
       "TRAIN_00001    1\n",
       "TRAIN_00002    1\n",
       "TRAIN_00003    1\n",
       "              ..\n",
       "TRAIN_00019    1\n",
       "TRAIN_00020    1\n",
       "TRAIN_00021    1\n",
       "TRAIN_00022    1\n",
       "TRAIN_00023    1\n",
       "Name: count, Length: 10000, dtype: int64"
      ]
     },
     "execution_count": 760,
     "metadata": {},
     "output_type": "execute_result"
    }
   ],
   "source": [
    "train[col].value_counts()"
   ]
  },
  {
   "cell_type": "code",
   "execution_count": 761,
   "metadata": {},
   "outputs": [],
   "source": [
    "def preprocess_uid_formatting(x):\n",
    "    return int(x.replace(\"TRAIN_\", \"\"))"
   ]
  },
  {
   "cell_type": "code",
   "execution_count": 762,
   "metadata": {},
   "outputs": [
    {
     "data": {
      "text/plain": [
       "0    0\n",
       "1    1\n",
       "2    2\n",
       "3    3\n",
       "4    4\n",
       "Name: UID, dtype: int64"
      ]
     },
     "execution_count": 762,
     "metadata": {},
     "output_type": "execute_result"
    }
   ],
   "source": [
    "processed = train[col].apply(preprocess_uid_formatting)\n",
    "processed.head()"
   ]
  },
  {
   "cell_type": "code",
   "execution_count": 763,
   "metadata": {},
   "outputs": [
    {
     "data": {
      "text/plain": [
       "<Axes: ylabel='Frequency'>"
      ]
     },
     "execution_count": 763,
     "metadata": {},
     "output_type": "execute_result"
    },
    {
     "data": {
      "image/png": "[encoded data removed]",
      "text/plain": [
       "<Figure size 640x480 with 1 Axes>"
      ]
     },
     "metadata": {},
     "output_type": "display_data"
    }
   ],
   "source": [
    "processed.plot(kind='hist', bins=10)"
   ]
  },
  {
   "cell_type": "code",
   "execution_count": 764,
   "metadata": {},
   "outputs": [
    {
     "data": {
      "text/plain": [
       "0.0"
      ]
     },
     "execution_count": 764,
     "metadata": {},
     "output_type": "execute_result"
    }
   ],
   "source": [
    "missingratio = float(processed.isna().sum()/len(train)*100)\n",
    "missingratio"
   ]
  },
  {
   "cell_type": "code",
   "execution_count": 765,
   "metadata": {},
   "outputs": [
    {
     "data": {
      "text/plain": [
       "{'count': 10000.0,\n",
       " 'mean': 4999.5,\n",
       " 'std': 2886.8956799071675,\n",
       " 'min': 0.0,\n",
       " '25%': 2499.75,\n",
       " '50%': 4999.5,\n",
       " '75%': 7499.25,\n",
       " 'max': 9999.0}"
      ]
     },
     "execution_count": 765,
     "metadata": {},
     "output_type": "execute_result"
    }
   ],
   "source": [
    "desc = processed.describe().to_dict()\n",
    "desc"
   ]
  },
  {
   "cell_type": "code",
   "execution_count": 766,
   "metadata": {},
   "outputs": [],
   "source": [
    "output[col]['type'] = \"interval\"\n",
    "output[col]['missingratio'] = missingratio\n",
    "output[col]['describe'] = desc"
   ]
  },
  {
   "cell_type": "code",
   "execution_count": 767,
   "metadata": {},
   "outputs": [
    {
     "data": {
      "text/plain": [
       "True"
      ]
     },
     "execution_count": 767,
     "metadata": {},
     "output_type": "execute_result"
    }
   ],
   "source": [
    "processed.to_list() == list(range(len(train)))"
   ]
  },
  {
   "cell_type": "markdown",
   "metadata": {},
   "source": [
    "### 4.2.2 주거 형태"
   ]
  },
  {
   "cell_type": "code",
   "execution_count": 768,
   "metadata": {},
   "outputs": [],
   "source": [
    "col = \"주거 형태\""
   ]
  },
  {
   "cell_type": "code",
   "execution_count": 769,
   "metadata": {},
   "outputs": [
    {
     "data": {
      "text/plain": [
       "주거 형태\n",
       "월세                  4050\n",
       "주택 담보 대출 (거주 중)     3633\n",
       "자가                  2241\n",
       "주택 담보 대출 (비거주 중)      76\n",
       "Name: count, dtype: int64"
      ]
     },
     "execution_count": 769,
     "metadata": {},
     "output_type": "execute_result"
    }
   ],
   "source": [
    "train[col].value_counts()"
   ]
  },
  {
   "cell_type": "code",
   "execution_count": 770,
   "metadata": {},
   "outputs": [],
   "source": [
    "def preprocess_housetype_formatting(x):\n",
    "    return x"
   ]
  },
  {
   "cell_type": "code",
   "execution_count": 771,
   "metadata": {},
   "outputs": [
    {
     "data": {
      "text/plain": [
       "0    자가\n",
       "1    월세\n",
       "2    월세\n",
       "3    월세\n",
       "4    월세\n",
       "Name: 주거 형태, dtype: object"
      ]
     },
     "execution_count": 771,
     "metadata": {},
     "output_type": "execute_result"
    }
   ],
   "source": [
    "processed = train[col].apply(preprocess_housetype_formatting)\n",
    "processed.head()"
   ]
  },
  {
   "cell_type": "code",
   "execution_count": 772,
   "metadata": {},
   "outputs": [
    {
     "data": {
      "text/plain": [
       "<Axes: xlabel='주거 형태'>"
      ]
     },
     "execution_count": 772,
     "metadata": {},
     "output_type": "execute_result"
    },
    {
     "data": {
      "image/png": "[encoded data removed]",
      "text/plain": [
       "<Figure size 640x480 with 1 Axes>"
      ]
     },
     "metadata": {},
     "output_type": "display_data"
    }
   ],
   "source": [
    "processed.value_counts().plot(kind='bar')"
   ]
  },
  {
   "cell_type": "code",
   "execution_count": 773,
   "metadata": {},
   "outputs": [
    {
     "data": {
      "text/plain": [
       "0.0"
      ]
     },
     "execution_count": 773,
     "metadata": {},
     "output_type": "execute_result"
    }
   ],
   "source": [
    "missingratio = float(processed.isna().sum()/len(train)*100)\n",
    "missingratio"
   ]
  },
  {
   "cell_type": "code",
   "execution_count": 774,
   "metadata": {},
   "outputs": [
    {
     "data": {
      "text/plain": [
       "{'count': 10000, 'unique': 4, 'top': '월세', 'freq': 4050}"
      ]
     },
     "execution_count": 774,
     "metadata": {},
     "output_type": "execute_result"
    }
   ],
   "source": [
    "desc = processed.describe().to_dict()\n",
    "desc"
   ]
  },
  {
   "cell_type": "code",
   "execution_count": 775,
   "metadata": {},
   "outputs": [],
   "source": [
    "output[col]['type'] = \"nominal\"\n",
    "output[col]['missingratio'] = missingratio\n",
    "output[col]['describe'] = desc"
   ]
  },
  {
   "cell_type": "markdown",
   "metadata": {},
   "source": [
    "### 4.2.3 연간 소득"
   ]
  },
  {
   "cell_type": "code",
   "execution_count": 776,
   "metadata": {},
   "outputs": [],
   "source": [
    "col = \"연간 소득\""
   ]
  },
  {
   "cell_type": "code",
   "execution_count": 777,
   "metadata": {},
   "outputs": [
    {
     "data": {
      "text/plain": [
       "연간 소득\n",
       "1423732.5    2\n",
       "1633566.0    2\n",
       "1032717.0    2\n",
       "2082741.0    2\n",
       "1038826.5    2\n",
       "            ..\n",
       "2008419.0    1\n",
       "2901906.0    1\n",
       "1606006.5    1\n",
       "1409605.5    1\n",
       "3551742.0    1\n",
       "Name: count, Length: 9970, dtype: int64"
      ]
     },
     "execution_count": 777,
     "metadata": {},
     "output_type": "execute_result"
    }
   ],
   "source": [
    "train[col].value_counts()"
   ]
  },
  {
   "cell_type": "code",
   "execution_count": 778,
   "metadata": {},
   "outputs": [],
   "source": [
    "def preprocess_yearincome_formatting(x):\n",
    "    return x"
   ]
  },
  {
   "cell_type": "code",
   "execution_count": 779,
   "metadata": {},
   "outputs": [
    {
     "data": {
      "text/plain": [
       "0    1941337.5\n",
       "1    1979505.0\n",
       "2    1356381.0\n",
       "3    1049017.5\n",
       "4    4320217.5\n",
       "Name: 연간 소득, dtype: float64"
      ]
     },
     "execution_count": 779,
     "metadata": {},
     "output_type": "execute_result"
    }
   ],
   "source": [
    "processed = train[col].apply(preprocess_yearincome_formatting)\n",
    "processed.head()"
   ]
  },
  {
   "cell_type": "code",
   "execution_count": 780,
   "metadata": {},
   "outputs": [
    {
     "data": {
      "text/plain": [
       "<Axes: ylabel='Frequency'>"
      ]
     },
     "execution_count": 780,
     "metadata": {},
     "output_type": "execute_result"
    },
    {
     "data": {
      "image/png": "[encoded data removed]",
      "text/plain": [
       "<Figure size 640x480 with 1 Axes>"
      ]
     },
     "metadata": {},
     "output_type": "display_data"
    }
   ],
   "source": [
    "processed.plot(kind='hist', bins=100)"
   ]
  },
  {
   "cell_type": "code",
   "execution_count": 781,
   "metadata": {},
   "outputs": [
    {
     "data": {
      "text/plain": [
       "0.0"
      ]
     },
     "execution_count": 781,
     "metadata": {},
     "output_type": "execute_result"
    }
   ],
   "source": [
    "missingratio = float(processed.isna().sum()/len(train)*100)\n",
    "missingratio"
   ]
  },
  {
   "cell_type": "code",
   "execution_count": 782,
   "metadata": {},
   "outputs": [
    {
     "data": {
      "text/plain": [
       "{'count': 10000.0,\n",
       " 'mean': 2163958.88415,\n",
       " 'std': 1434429.6819599683,\n",
       " 'min': 267621.0,\n",
       " '25%': 1311437.25,\n",
       " '50%': 1743222.75,\n",
       " '75%': 2447664.0,\n",
       " 'max': 17229747.0}"
      ]
     },
     "execution_count": 782,
     "metadata": {},
     "output_type": "execute_result"
    }
   ],
   "source": [
    "desc = processed.describe().to_dict()\n",
    "desc"
   ]
  },
  {
   "cell_type": "code",
   "execution_count": 783,
   "metadata": {},
   "outputs": [],
   "source": [
    "output[col]['type'] = \"ratio\"\n",
    "output[col]['missingratio'] = missingratio\n",
    "output[col]['describe'] = desc"
   ]
  },
  {
   "cell_type": "markdown",
   "metadata": {},
   "source": [
    "### 4.2.4 현재 직장 근속 연수"
   ]
  },
  {
   "cell_type": "code",
   "execution_count": 784,
   "metadata": {},
   "outputs": [],
   "source": [
    "col = \"현재 직장 근속 연수\""
   ]
  },
  {
   "cell_type": "code",
   "execution_count": 785,
   "metadata": {},
   "outputs": [
    {
     "data": {
      "text/plain": [
       "현재 직장 근속 연수\n",
       "10년 이상    3828\n",
       "2년        1225\n",
       "8년         841\n",
       "5년         729\n",
       "7년         619\n",
       "1년         581\n",
       "4년         541\n",
       "3년         523\n",
       "1년 미만      488\n",
       "6년         357\n",
       "9년         268\n",
       "Name: count, dtype: int64"
      ]
     },
     "execution_count": 785,
     "metadata": {},
     "output_type": "execute_result"
    }
   ],
   "source": [
    "train[col].value_counts()"
   ]
  },
  {
   "cell_type": "code",
   "execution_count": 786,
   "metadata": {},
   "outputs": [],
   "source": [
    "import re\n",
    "\n",
    "def preprocess_tenure_formatting(x):\n",
    "    return int(re.findall(r'\\d+', x)[0])"
   ]
  },
  {
   "cell_type": "code",
   "execution_count": 787,
   "metadata": {},
   "outputs": [
    {
     "data": {
      "text/plain": [
       "0    10\n",
       "1    10\n",
       "2     4\n",
       "3     6\n",
       "4     2\n",
       "Name: 현재 직장 근속 연수, dtype: int64"
      ]
     },
     "execution_count": 787,
     "metadata": {},
     "output_type": "execute_result"
    }
   ],
   "source": [
    "processed = train[col].apply(preprocess_tenure_formatting)\n",
    "processed.head()"
   ]
  },
  {
   "cell_type": "code",
   "execution_count": 788,
   "metadata": {},
   "outputs": [
    {
     "data": {
      "text/plain": [
       "<Axes: ylabel='Frequency'>"
      ]
     },
     "execution_count": 788,
     "metadata": {},
     "output_type": "execute_result"
    },
    {
     "data": {
      "image/png": "[encoded data removed]",
      "text/plain": [
       "<Figure size 640x480 with 1 Axes>"
      ]
     },
     "metadata": {},
     "output_type": "display_data"
    }
   ],
   "source": [
    "processed.plot(kind='hist', bins=20)"
   ]
  },
  {
   "cell_type": "code",
   "execution_count": 789,
   "metadata": {},
   "outputs": [
    {
     "data": {
      "text/plain": [
       "0.0"
      ]
     },
     "execution_count": 789,
     "metadata": {},
     "output_type": "execute_result"
    }
   ],
   "source": [
    "missingratio = float(processed.isna().sum()/len(train)*100)\n",
    "missingratio"
   ]
  },
  {
   "cell_type": "code",
   "execution_count": 790,
   "metadata": {},
   "outputs": [
    {
     "data": {
      "text/plain": [
       "{'count': 10000, 'unique': 10, 'top': '10', 'freq': 3828}"
      ]
     },
     "execution_count": 790,
     "metadata": {},
     "output_type": "execute_result"
    }
   ],
   "source": [
    "desc = processed.map(str).describe().to_dict()\n",
    "desc"
   ]
  },
  {
   "cell_type": "code",
   "execution_count": 791,
   "metadata": {},
   "outputs": [],
   "source": [
    "output[col]['type'] = \"ordinal\"\n",
    "output[col]['missingratio'] = missingratio\n",
    "output[col]['describe'] = desc"
   ]
  },
  {
   "cell_type": "markdown",
   "metadata": {},
   "source": [
    "### 4.2.5 체납 세금 압류 횟수"
   ]
  },
  {
   "cell_type": "code",
   "execution_count": 792,
   "metadata": {},
   "outputs": [],
   "source": [
    "col = \"체납 세금 압류 횟수\""
   ]
  },
  {
   "cell_type": "code",
   "execution_count": 793,
   "metadata": {},
   "outputs": [
    {
     "data": {
      "text/plain": [
       "체납 세금 압류 횟수\n",
       "0.0    8826\n",
       "1.0     884\n",
       "4.0     176\n",
       "2.0      60\n",
       "5.0      37\n",
       "7.0      10\n",
       "3.0       4\n",
       "6.0       3\n",
       "Name: count, dtype: int64"
      ]
     },
     "execution_count": 793,
     "metadata": {},
     "output_type": "execute_result"
    }
   ],
   "source": [
    "train[col].value_counts()"
   ]
  },
  {
   "cell_type": "code",
   "execution_count": 794,
   "metadata": {},
   "outputs": [],
   "source": [
    "def preprocess_seizurecount_formatting(x):\n",
    "    return x"
   ]
  },
  {
   "cell_type": "code",
   "execution_count": 795,
   "metadata": {},
   "outputs": [
    {
     "data": {
      "text/plain": [
       "0    0.0\n",
       "1    0.0\n",
       "2    0.0\n",
       "3    0.0\n",
       "4    0.0\n",
       "Name: 체납 세금 압류 횟수, dtype: float64"
      ]
     },
     "execution_count": 795,
     "metadata": {},
     "output_type": "execute_result"
    }
   ],
   "source": [
    "processed = train[col].apply(preprocess_seizurecount_formatting)\n",
    "processed.head()"
   ]
  },
  {
   "cell_type": "code",
   "execution_count": 796,
   "metadata": {},
   "outputs": [
    {
     "data": {
      "text/plain": [
       "<Axes: ylabel='Frequency'>"
      ]
     },
     "execution_count": 796,
     "metadata": {},
     "output_type": "execute_result"
    },
    {
     "data": {
      "image/png": "[encoded data removed]",
      "text/plain": [
       "<Figure size 640x480 with 1 Axes>"
      ]
     },
     "metadata": {},
     "output_type": "display_data"
    }
   ],
   "source": [
    "processed.plot(kind='hist', bins=20)"
   ]
  },
  {
   "cell_type": "code",
   "execution_count": 797,
   "metadata": {},
   "outputs": [
    {
     "data": {
      "text/plain": [
       "0.0"
      ]
     },
     "execution_count": 797,
     "metadata": {},
     "output_type": "execute_result"
    }
   ],
   "source": [
    "missingratio = float(processed.isna().sum()/len(train)*100)\n",
    "missingratio"
   ]
  },
  {
   "cell_type": "code",
   "execution_count": 798,
   "metadata": {},
   "outputs": [
    {
     "data": {
      "text/plain": [
       "{'count': 10000.0,\n",
       " 'mean': 0.1993,\n",
       " 'std': 0.7143042300401877,\n",
       " 'min': 0.0,\n",
       " '25%': 0.0,\n",
       " '50%': 0.0,\n",
       " '75%': 0.0,\n",
       " 'max': 7.0}"
      ]
     },
     "execution_count": 798,
     "metadata": {},
     "output_type": "execute_result"
    }
   ],
   "source": [
    "desc = processed.describe().to_dict()\n",
    "desc"
   ]
  },
  {
   "cell_type": "code",
   "execution_count": 799,
   "metadata": {},
   "outputs": [],
   "source": [
    "output[col]['type'] = \"ratio\"\n",
    "output[col]['missingratio'] = missingratio\n",
    "output[col]['describe'] = desc"
   ]
  },
  {
   "cell_type": "markdown",
   "metadata": {},
   "source": [
    "### 4.2.6 개설된 신용계좌 수"
   ]
  },
  {
   "cell_type": "code",
   "execution_count": 800,
   "metadata": {},
   "outputs": [],
   "source": [
    "col = \"개설된 신용계좌 수\""
   ]
  },
  {
   "cell_type": "code",
   "execution_count": 801,
   "metadata": {},
   "outputs": [
    {
     "data": {
      "text/plain": [
       "개설된 신용계좌 수\n",
       "12    981\n",
       "10    973\n",
       "11    950\n",
       "13    896\n",
       "9     869\n",
       "Name: count, dtype: int64"
      ]
     },
     "execution_count": 801,
     "metadata": {},
     "output_type": "execute_result"
    }
   ],
   "source": [
    "train[col].value_counts().head()"
   ]
  },
  {
   "cell_type": "code",
   "execution_count": 802,
   "metadata": {},
   "outputs": [],
   "source": [
    "def preprocess_accountcount_formatting(x):\n",
    "    return x"
   ]
  },
  {
   "cell_type": "code",
   "execution_count": 803,
   "metadata": {},
   "outputs": [
    {
     "data": {
      "text/plain": [
       "0     9\n",
       "1     5\n",
       "2    12\n",
       "3    15\n",
       "4    11\n",
       "Name: 개설된 신용계좌 수, dtype: int64"
      ]
     },
     "execution_count": 803,
     "metadata": {},
     "output_type": "execute_result"
    }
   ],
   "source": [
    "processed = train[col].apply(preprocess_accountcount_formatting)\n",
    "processed.head()"
   ]
  },
  {
   "cell_type": "code",
   "execution_count": 804,
   "metadata": {},
   "outputs": [
    {
     "data": {
      "text/plain": [
       "<Axes: ylabel='Frequency'>"
      ]
     },
     "execution_count": 804,
     "metadata": {},
     "output_type": "execute_result"
    },
    {
     "data": {
      "image/png": "[encoded data removed]",
      "text/plain": [
       "<Figure size 640x480 with 1 Axes>"
      ]
     },
     "metadata": {},
     "output_type": "display_data"
    }
   ],
   "source": [
    "processed.plot(kind='hist', bins=100)"
   ]
  },
  {
   "cell_type": "code",
   "execution_count": 805,
   "metadata": {},
   "outputs": [
    {
     "data": {
      "text/plain": [
       "0.0"
      ]
     },
     "execution_count": 805,
     "metadata": {},
     "output_type": "execute_result"
    }
   ],
   "source": [
    "missingratio = float(processed.isna().sum()/len(train)*100)\n",
    "missingratio"
   ]
  },
  {
   "cell_type": "code",
   "execution_count": 806,
   "metadata": {},
   "outputs": [
    {
     "data": {
      "text/plain": [
       "{'count': 10000.0,\n",
       " 'mean': 12.2489,\n",
       " 'std': 4.620571799937302,\n",
       " 'min': 2.0,\n",
       " '25%': 9.0,\n",
       " '50%': 12.0,\n",
       " '75%': 15.0,\n",
       " 'max': 35.0}"
      ]
     },
     "execution_count": 806,
     "metadata": {},
     "output_type": "execute_result"
    }
   ],
   "source": [
    "desc = processed.describe().to_dict()\n",
    "desc"
   ]
  },
  {
   "cell_type": "code",
   "execution_count": 807,
   "metadata": {},
   "outputs": [],
   "source": [
    "output[col]['type'] = \"ratio\"\n",
    "output[col]['missingratio'] = missingratio\n",
    "output[col]['describe'] = desc"
   ]
  },
  {
   "cell_type": "markdown",
   "metadata": {},
   "source": [
    "### 4.2.7 신용 거래 연수"
   ]
  },
  {
   "cell_type": "code",
   "execution_count": 808,
   "metadata": {},
   "outputs": [],
   "source": [
    "col = \"신용 거래 연수\""
   ]
  },
  {
   "cell_type": "code",
   "execution_count": 809,
   "metadata": {},
   "outputs": [
    {
     "data": {
      "text/plain": [
       "신용 거래 연수\n",
       "15.5    94\n",
       "14.3    93\n",
       "15.8    92\n",
       "16.2    92\n",
       "15.2    85\n",
       "        ..\n",
       "46.7     1\n",
       "6.0      1\n",
       "41.8     1\n",
       "48.7     1\n",
       "6.7      1\n",
       "Name: count, Length: 397, dtype: int64"
      ]
     },
     "execution_count": 809,
     "metadata": {},
     "output_type": "execute_result"
    }
   ],
   "source": [
    "train[col].value_counts()"
   ]
  },
  {
   "cell_type": "code",
   "execution_count": 810,
   "metadata": {},
   "outputs": [],
   "source": [
    "def preprocess_credityear_formatting(x):\n",
    "    return x"
   ]
  },
  {
   "cell_type": "code",
   "execution_count": 811,
   "metadata": {},
   "outputs": [
    {
     "data": {
      "text/plain": [
       "0    13.4\n",
       "1    15.1\n",
       "2    18.8\n",
       "3    14.8\n",
       "4    26.1\n",
       "Name: 신용 거래 연수, dtype: float64"
      ]
     },
     "execution_count": 811,
     "metadata": {},
     "output_type": "execute_result"
    }
   ],
   "source": [
    "processed = train[col].apply(preprocess_credityear_formatting)\n",
    "processed.head()"
   ]
  },
  {
   "cell_type": "code",
   "execution_count": 812,
   "metadata": {},
   "outputs": [
    {
     "data": {
      "text/plain": [
       "<Axes: ylabel='Frequency'>"
      ]
     },
     "execution_count": 812,
     "metadata": {},
     "output_type": "execute_result"
    },
    {
     "data": {
      "image/png": "[encoded data removed]",
      "text/plain": [
       "<Figure size 640x480 with 1 Axes>"
      ]
     },
     "metadata": {},
     "output_type": "display_data"
    }
   ],
   "source": [
    "processed.plot(kind='hist', bins=100)"
   ]
  },
  {
   "cell_type": "code",
   "execution_count": 813,
   "metadata": {},
   "outputs": [
    {
     "data": {
      "text/plain": [
       "0.0"
      ]
     },
     "execution_count": 813,
     "metadata": {},
     "output_type": "execute_result"
    }
   ],
   "source": [
    "missingratio = float(processed.isna().sum()/len(train)*100)\n",
    "missingratio"
   ]
  },
  {
   "cell_type": "code",
   "execution_count": 814,
   "metadata": {},
   "outputs": [
    {
     "data": {
      "text/plain": [
       "{'count': 10000.0,\n",
       " 'mean': 19.879360000000002,\n",
       " 'std': 7.2066928360075995,\n",
       " 'min': 6.0,\n",
       " '25%': 14.6,\n",
       " '50%': 17.95,\n",
       " '75%': 24.1,\n",
       " 'max': 51.7}"
      ]
     },
     "execution_count": 814,
     "metadata": {},
     "output_type": "execute_result"
    }
   ],
   "source": [
    "desc = processed.describe().to_dict()\n",
    "desc"
   ]
  },
  {
   "cell_type": "code",
   "execution_count": 815,
   "metadata": {},
   "outputs": [],
   "source": [
    "output[col]['type'] = \"ratio\"\n",
    "output[col]['missingratio'] = missingratio\n",
    "output[col]['describe'] = desc"
   ]
  },
  {
   "cell_type": "markdown",
   "metadata": {},
   "source": [
    "### 4.2.8 최대 신용한도"
   ]
  },
  {
   "cell_type": "code",
   "execution_count": 816,
   "metadata": {},
   "outputs": [],
   "source": [
    "col = \"최대 신용한도\""
   ]
  },
  {
   "cell_type": "code",
   "execution_count": 817,
   "metadata": {},
   "outputs": [
    {
     "data": {
      "text/plain": [
       "최대 신용한도\n",
       "0.0          388\n",
       "63549.0        2\n",
       "689334.0       2\n",
       "681205.5       2\n",
       "1092354.0      2\n",
       "            ... \n",
       "4069552.5      1\n",
       "1339857.0      1\n",
       "1381129.5      1\n",
       "642313.5       1\n",
       "1105492.5      1\n",
       "Name: count, Length: 9585, dtype: int64"
      ]
     },
     "execution_count": 817,
     "metadata": {},
     "output_type": "execute_result"
    }
   ],
   "source": [
    "train[col].value_counts()"
   ]
  },
  {
   "cell_type": "code",
   "execution_count": 818,
   "metadata": {},
   "outputs": [],
   "source": [
    "def preprocess_creditlimit_formatting(x):\n",
    "    return x"
   ]
  },
  {
   "cell_type": "code",
   "execution_count": 819,
   "metadata": {},
   "outputs": [
    {
     "data": {
      "text/plain": [
       "0    400597.5\n",
       "1    360679.5\n",
       "2    491770.5\n",
       "3    411546.0\n",
       "4    895288.5\n",
       "Name: 최대 신용한도, dtype: float64"
      ]
     },
     "execution_count": 819,
     "metadata": {},
     "output_type": "execute_result"
    }
   ],
   "source": [
    "processed = train[col].apply(preprocess_creditlimit_formatting)\n",
    "processed.head()"
   ]
  },
  {
   "cell_type": "code",
   "execution_count": 820,
   "metadata": {},
   "outputs": [
    {
     "data": {
      "text/plain": [
       "<Axes: ylabel='Frequency'>"
      ]
     },
     "execution_count": 820,
     "metadata": {},
     "output_type": "execute_result"
    },
    {
     "data": {
      "image/png": "[encoded data removed]",
      "text/plain": [
       "<Figure size 640x480 with 1 Axes>"
      ]
     },
     "metadata": {},
     "output_type": "display_data"
    }
   ],
   "source": [
    "processed.plot(kind='hist', bins=100)"
   ]
  },
  {
   "cell_type": "code",
   "execution_count": 821,
   "metadata": {},
   "outputs": [
    {
     "data": {
      "text/plain": [
       "0.0"
      ]
     },
     "execution_count": 821,
     "metadata": {},
     "output_type": "execute_result"
    }
   ],
   "source": [
    "missingratio = float(processed.isna().sum()/len(train)*100)\n",
    "missingratio"
   ]
  },
  {
   "cell_type": "code",
   "execution_count": 822,
   "metadata": {},
   "outputs": [
    {
     "data": {
      "text/plain": [
       "{'count': 10000.0,\n",
       " 'mean': 1175264.7378,\n",
       " 'std': 1604199.2152022778,\n",
       " 'min': 0.0,\n",
       " '25%': 448247.625,\n",
       " '50%': 767091.0,\n",
       " '75%': 1147282.875,\n",
       " 'max': 23232333.0}"
      ]
     },
     "execution_count": 822,
     "metadata": {},
     "output_type": "execute_result"
    }
   ],
   "source": [
    "desc = processed.describe().to_dict()\n",
    "desc"
   ]
  },
  {
   "cell_type": "code",
   "execution_count": 823,
   "metadata": {},
   "outputs": [],
   "source": [
    "output[col]['type'] = \"ratio\"\n",
    "output[col]['missingratio'] = missingratio\n",
    "output[col]['describe'] = desc"
   ]
  },
  {
   "cell_type": "markdown",
   "metadata": {},
   "source": [
    "### 4.2.9 신용 문제 발생 횟수"
   ]
  },
  {
   "cell_type": "code",
   "execution_count": 824,
   "metadata": {},
   "outputs": [],
   "source": [
    "col = \"신용 문제 발생 횟수\""
   ]
  },
  {
   "cell_type": "code",
   "execution_count": 825,
   "metadata": {},
   "outputs": [
    {
     "data": {
      "text/plain": [
       "신용 문제 발생 횟수\n",
       "0    6621\n",
       "1    2149\n",
       "2     689\n",
       "5     248\n",
       "6     157\n",
       "4      93\n",
       "3      30\n",
       "7      13\n",
       "Name: count, dtype: int64"
      ]
     },
     "execution_count": 825,
     "metadata": {},
     "output_type": "execute_result"
    }
   ],
   "source": [
    "train[col].value_counts()"
   ]
  },
  {
   "cell_type": "code",
   "execution_count": 826,
   "metadata": {},
   "outputs": [],
   "source": [
    "def preprocess_creditissuecount_formatting(x):\n",
    "    return x"
   ]
  },
  {
   "cell_type": "code",
   "execution_count": 827,
   "metadata": {},
   "outputs": [
    {
     "data": {
      "text/plain": [
       "0    0\n",
       "1    0\n",
       "2    1\n",
       "3    1\n",
       "4    0\n",
       "Name: 신용 문제 발생 횟수, dtype: int64"
      ]
     },
     "execution_count": 827,
     "metadata": {},
     "output_type": "execute_result"
    }
   ],
   "source": [
    "processed = train[col].apply(preprocess_creditissuecount_formatting)\n",
    "processed.head()"
   ]
  },
  {
   "cell_type": "code",
   "execution_count": 828,
   "metadata": {},
   "outputs": [
    {
     "data": {
      "text/plain": [
       "<Axes: ylabel='Frequency'>"
      ]
     },
     "execution_count": 828,
     "metadata": {},
     "output_type": "execute_result"
    },
    {
     "data": {
      "image/png": "[encoded data removed]",
      "text/plain": [
       "<Figure size 640x480 with 1 Axes>"
      ]
     },
     "metadata": {},
     "output_type": "display_data"
    }
   ],
   "source": [
    "processed.plot(kind='hist', bins=20)"
   ]
  },
  {
   "cell_type": "code",
   "execution_count": 829,
   "metadata": {},
   "outputs": [
    {
     "data": {
      "text/plain": [
       "0.0"
      ]
     },
     "execution_count": 829,
     "metadata": {},
     "output_type": "execute_result"
    }
   ],
   "source": [
    "missingratio = float(processed.isna().sum()/len(train)*100)\n",
    "missingratio"
   ]
  },
  {
   "cell_type": "code",
   "execution_count": 830,
   "metadata": {},
   "outputs": [
    {
     "data": {
      "text/plain": [
       "{'count': 10000.0,\n",
       " 'mean': 0.6262,\n",
       " 'std': 1.23419037534258,\n",
       " 'min': 0.0,\n",
       " '25%': 0.0,\n",
       " '50%': 0.0,\n",
       " '75%': 1.0,\n",
       " 'max': 7.0}"
      ]
     },
     "execution_count": 830,
     "metadata": {},
     "output_type": "execute_result"
    }
   ],
   "source": [
    "desc = processed.describe().to_dict()\n",
    "desc"
   ]
  },
  {
   "cell_type": "code",
   "execution_count": 831,
   "metadata": {},
   "outputs": [],
   "source": [
    "output[col]['type'] = \"ratio\"\n",
    "output[col]['missingratio'] = missingratio\n",
    "output[col]['describe'] = desc"
   ]
  },
  {
   "cell_type": "markdown",
   "metadata": {},
   "source": [
    "### 4.2.10 마지막 연체 이후 경과 개월 수"
   ]
  },
  {
   "cell_type": "code",
   "execution_count": 832,
   "metadata": {},
   "outputs": [],
   "source": [
    "col = \"마지막 연체 이후 경과 개월 수\""
   ]
  },
  {
   "cell_type": "code",
   "execution_count": 833,
   "metadata": {},
   "outputs": [
    {
     "data": {
      "text/plain": [
       "마지막 연체 이후 경과 개월 수\n",
       "11    262\n",
       "9     258\n",
       "31    252\n",
       "8     251\n",
       "10    251\n",
       "     ... \n",
       "83      7\n",
       "85      3\n",
       "84      3\n",
       "86      3\n",
       "88      1\n",
       "Name: count, Length: 88, dtype: int64"
      ]
     },
     "execution_count": 833,
     "metadata": {},
     "output_type": "execute_result"
    }
   ],
   "source": [
    "train[col].value_counts()"
   ]
  },
  {
   "cell_type": "code",
   "execution_count": 834,
   "metadata": {},
   "outputs": [],
   "source": [
    "def preprocess_delinquencyfrom_formatting(x):\n",
    "    return x"
   ]
  },
  {
   "cell_type": "code",
   "execution_count": 835,
   "metadata": {},
   "outputs": [
    {
     "data": {
      "text/plain": [
       "0    24\n",
       "1    11\n",
       "2    74\n",
       "3    22\n",
       "4    32\n",
       "Name: 마지막 연체 이후 경과 개월 수, dtype: int64"
      ]
     },
     "execution_count": 835,
     "metadata": {},
     "output_type": "execute_result"
    }
   ],
   "source": [
    "processed = train[col].apply(preprocess_delinquencyfrom_formatting)\n",
    "processed.head()"
   ]
  },
  {
   "cell_type": "code",
   "execution_count": 836,
   "metadata": {},
   "outputs": [
    {
     "data": {
      "text/plain": [
       "<Axes: ylabel='Frequency'>"
      ]
     },
     "execution_count": 836,
     "metadata": {},
     "output_type": "execute_result"
    },
    {
     "data": {
      "image/png": "[encoded data removed]",
      "text/plain": [
       "<Figure size 640x480 with 1 Axes>"
      ]
     },
     "metadata": {},
     "output_type": "display_data"
    }
   ],
   "source": [
    "processed.plot(kind='hist', bins=100)"
   ]
  },
  {
   "cell_type": "code",
   "execution_count": 837,
   "metadata": {},
   "outputs": [
    {
     "data": {
      "text/plain": [
       "0.0"
      ]
     },
     "execution_count": 837,
     "metadata": {},
     "output_type": "execute_result"
    }
   ],
   "source": [
    "missingratio = float(processed.isna().sum()/len(train)*100)\n",
    "missingratio"
   ]
  },
  {
   "cell_type": "code",
   "execution_count": 838,
   "metadata": {},
   "outputs": [
    {
     "data": {
      "text/plain": [
       "{'count': 10000.0,\n",
       " 'mean': 30.8892,\n",
       " 'std': 20.01156089906436,\n",
       " 'min': 0.0,\n",
       " '25%': 14.0,\n",
       " '50%': 28.0,\n",
       " '75%': 41.0,\n",
       " 'max': 88.0}"
      ]
     },
     "execution_count": 838,
     "metadata": {},
     "output_type": "execute_result"
    }
   ],
   "source": [
    "desc = processed.describe().to_dict()\n",
    "desc"
   ]
  },
  {
   "cell_type": "code",
   "execution_count": 839,
   "metadata": {},
   "outputs": [],
   "source": [
    "output[col]['type'] = \"ratio\"\n",
    "output[col]['missingratio'] = missingratio\n",
    "output[col]['describe'] = desc"
   ]
  },
  {
   "cell_type": "markdown",
   "metadata": {},
   "source": [
    "### 4.2.11 개인 파산 횟수"
   ]
  },
  {
   "cell_type": "code",
   "execution_count": 840,
   "metadata": {},
   "outputs": [],
   "source": [
    "col = \"개인 파산 횟수\""
   ]
  },
  {
   "cell_type": "code",
   "execution_count": 841,
   "metadata": {},
   "outputs": [
    {
     "data": {
      "text/plain": [
       "개인 파산 횟수\n",
       "0    7886\n",
       "1    1268\n",
       "3     772\n",
       "2      74\n",
       "Name: count, dtype: int64"
      ]
     },
     "execution_count": 841,
     "metadata": {},
     "output_type": "execute_result"
    }
   ],
   "source": [
    "train[col].value_counts()"
   ]
  },
  {
   "cell_type": "code",
   "execution_count": 842,
   "metadata": {},
   "outputs": [],
   "source": [
    "def preprocess_bankruptcycount_formatting(x):\n",
    "    return x"
   ]
  },
  {
   "cell_type": "code",
   "execution_count": 843,
   "metadata": {},
   "outputs": [
    {
     "data": {
      "text/plain": [
       "0    1\n",
       "1    0\n",
       "2    3\n",
       "3    1\n",
       "4    0\n",
       "Name: 개인 파산 횟수, dtype: int64"
      ]
     },
     "execution_count": 843,
     "metadata": {},
     "output_type": "execute_result"
    }
   ],
   "source": [
    "processed = train[col].apply(preprocess_bankruptcycount_formatting)\n",
    "processed.head()"
   ]
  },
  {
   "cell_type": "code",
   "execution_count": 844,
   "metadata": {},
   "outputs": [
    {
     "data": {
      "text/plain": [
       "<Axes: ylabel='Frequency'>"
      ]
     },
     "execution_count": 844,
     "metadata": {},
     "output_type": "execute_result"
    },
    {
     "data": {
      "image/png": "[encoded data removed]",
      "text/plain": [
       "<Figure size 640x480 with 1 Axes>"
      ]
     },
     "metadata": {},
     "output_type": "display_data"
    }
   ],
   "source": [
    "processed.plot(kind='hist', bins=10)"
   ]
  },
  {
   "cell_type": "code",
   "execution_count": 845,
   "metadata": {},
   "outputs": [
    {
     "data": {
      "text/plain": [
       "0.0"
      ]
     },
     "execution_count": 845,
     "metadata": {},
     "output_type": "execute_result"
    }
   ],
   "source": [
    "missingratio = float(processed.isna().sum()/len(train)*100)\n",
    "missingratio"
   ]
  },
  {
   "cell_type": "code",
   "execution_count": 846,
   "metadata": {},
   "outputs": [
    {
     "data": {
      "text/plain": [
       "{'count': 10000.0,\n",
       " 'mean': 0.3732,\n",
       " 'std': 0.843796752361568,\n",
       " 'min': 0.0,\n",
       " '25%': 0.0,\n",
       " '50%': 0.0,\n",
       " '75%': 0.0,\n",
       " 'max': 3.0}"
      ]
     },
     "execution_count": 846,
     "metadata": {},
     "output_type": "execute_result"
    }
   ],
   "source": [
    "desc = processed.describe().to_dict()\n",
    "desc"
   ]
  },
  {
   "cell_type": "code",
   "execution_count": 847,
   "metadata": {},
   "outputs": [],
   "source": [
    "output[col]['type'] = \"ordinal\" # ratio지만 처리는 ordinal\n",
    "output[col]['missingratio'] = missingratio\n",
    "output[col]['describe'] = desc"
   ]
  },
  {
   "cell_type": "markdown",
   "metadata": {},
   "source": [
    "### 4.2.12 대출 목적"
   ]
  },
  {
   "cell_type": "code",
   "execution_count": 848,
   "metadata": {},
   "outputs": [],
   "source": [
    "col = \"대출 목적\""
   ]
  },
  {
   "cell_type": "code",
   "execution_count": 849,
   "metadata": {},
   "outputs": [
    {
     "data": {
      "text/plain": [
       "대출 목적\n",
       "부채 통합        7294\n",
       "기타            970\n",
       "주택 개보수        909\n",
       "사업 대출         254\n",
       "여행 자금         173\n",
       "의료비           158\n",
       "자동차 구매         95\n",
       "고액 구매          68\n",
       "소규모 사업 자금      26\n",
       "주택 구매          26\n",
       "결혼 자금          14\n",
       "휴가 비용           6\n",
       "이사 비용           4\n",
       "교육비             3\n",
       "Name: count, dtype: int64"
      ]
     },
     "execution_count": 849,
     "metadata": {},
     "output_type": "execute_result"
    }
   ],
   "source": [
    "train[col].value_counts()"
   ]
  },
  {
   "cell_type": "code",
   "execution_count": 850,
   "metadata": {},
   "outputs": [],
   "source": [
    "def preprocess_loanpurpose_formatting(x):\n",
    "    return x"
   ]
  },
  {
   "cell_type": "code",
   "execution_count": 851,
   "metadata": {},
   "outputs": [
    {
     "data": {
      "text/plain": [
       "0    부채 통합\n",
       "1    부채 통합\n",
       "2    부채 통합\n",
       "3    부채 통합\n",
       "4    부채 통합\n",
       "Name: 대출 목적, dtype: object"
      ]
     },
     "execution_count": 851,
     "metadata": {},
     "output_type": "execute_result"
    }
   ],
   "source": [
    "processed = train[col].apply(preprocess_loanpurpose_formatting)\n",
    "processed.head()"
   ]
  },
  {
   "cell_type": "code",
   "execution_count": 852,
   "metadata": {},
   "outputs": [
    {
     "data": {
      "text/plain": [
       "<Axes: xlabel='대출 목적'>"
      ]
     },
     "execution_count": 852,
     "metadata": {},
     "output_type": "execute_result"
    },
    {
     "data": {
      "image/png": "[encoded data removed]",
      "text/plain": [
       "<Figure size 640x480 with 1 Axes>"
      ]
     },
     "metadata": {},
     "output_type": "display_data"
    }
   ],
   "source": [
    "processed.value_counts().plot(kind='bar')"
   ]
  },
  {
   "cell_type": "code",
   "execution_count": 853,
   "metadata": {},
   "outputs": [
    {
     "data": {
      "text/plain": [
       "0.0"
      ]
     },
     "execution_count": 853,
     "metadata": {},
     "output_type": "execute_result"
    }
   ],
   "source": [
    "missingratio = float(processed.isna().sum()/len(train)*100)\n",
    "missingratio"
   ]
  },
  {
   "cell_type": "code",
   "execution_count": 854,
   "metadata": {},
   "outputs": [
    {
     "data": {
      "text/plain": [
       "{'count': 10000, 'unique': 14, 'top': '부채 통합', 'freq': 7294}"
      ]
     },
     "execution_count": 854,
     "metadata": {},
     "output_type": "execute_result"
    }
   ],
   "source": [
    "desc = processed.describe().to_dict()\n",
    "desc"
   ]
  },
  {
   "cell_type": "code",
   "execution_count": 855,
   "metadata": {},
   "outputs": [],
   "source": [
    "output[col]['type'] = \"nominal\"\n",
    "output[col]['missingratio'] = missingratio\n",
    "output[col]['describe'] = desc"
   ]
  },
  {
   "cell_type": "markdown",
   "metadata": {},
   "source": [
    "### 4.2.13 대출 상환 기간"
   ]
  },
  {
   "cell_type": "code",
   "execution_count": 856,
   "metadata": {},
   "outputs": [],
   "source": [
    "col = \"대출 상환 기간\""
   ]
  },
  {
   "cell_type": "code",
   "execution_count": 857,
   "metadata": {},
   "outputs": [
    {
     "data": {
      "text/plain": [
       "대출 상환 기간\n",
       "단기 상환    6975\n",
       "장기 상환    3025\n",
       "Name: count, dtype: int64"
      ]
     },
     "execution_count": 857,
     "metadata": {},
     "output_type": "execute_result"
    }
   ],
   "source": [
    "train[col].value_counts()"
   ]
  },
  {
   "cell_type": "code",
   "execution_count": 858,
   "metadata": {},
   "outputs": [],
   "source": [
    "def preprocess_loanterm_formatting(x):\n",
    "    return x"
   ]
  },
  {
   "cell_type": "code",
   "execution_count": 859,
   "metadata": {},
   "outputs": [
    {
     "data": {
      "text/plain": [
       "0    단기 상환\n",
       "1    단기 상환\n",
       "2    단기 상환\n",
       "3    단기 상환\n",
       "4    장기 상환\n",
       "Name: 대출 상환 기간, dtype: object"
      ]
     },
     "execution_count": 859,
     "metadata": {},
     "output_type": "execute_result"
    }
   ],
   "source": [
    "processed = train[col].apply(preprocess_loanterm_formatting)\n",
    "processed.head()"
   ]
  },
  {
   "cell_type": "code",
   "execution_count": 860,
   "metadata": {},
   "outputs": [
    {
     "data": {
      "text/plain": [
       "<Axes: xlabel='대출 상환 기간'>"
      ]
     },
     "execution_count": 860,
     "metadata": {},
     "output_type": "execute_result"
    },
    {
     "data": {
      "image/png": "[encoded data removed]",
      "text/plain": [
       "<Figure size 640x480 with 1 Axes>"
      ]
     },
     "metadata": {},
     "output_type": "display_data"
    }
   ],
   "source": [
    "processed.value_counts().plot(kind='bar')"
   ]
  },
  {
   "cell_type": "code",
   "execution_count": 861,
   "metadata": {},
   "outputs": [
    {
     "data": {
      "text/plain": [
       "0.0"
      ]
     },
     "execution_count": 861,
     "metadata": {},
     "output_type": "execute_result"
    }
   ],
   "source": [
    "missingratio = float(processed.isna().sum()/len(train)*100)\n",
    "missingratio"
   ]
  },
  {
   "cell_type": "code",
   "execution_count": 862,
   "metadata": {},
   "outputs": [
    {
     "data": {
      "text/plain": [
       "{'count': 10000, 'unique': 2, 'top': '단기 상환', 'freq': 6975}"
      ]
     },
     "execution_count": 862,
     "metadata": {},
     "output_type": "execute_result"
    }
   ],
   "source": [
    "desc = processed.describe().to_dict()\n",
    "desc"
   ]
  },
  {
   "cell_type": "code",
   "execution_count": 863,
   "metadata": {},
   "outputs": [],
   "source": [
    "output[col]['type'] = \"nominal\"\n",
    "output[col]['missingratio'] = missingratio\n",
    "output[col]['describe'] = desc"
   ]
  },
  {
   "cell_type": "markdown",
   "metadata": {},
   "source": [
    "### 4.2.14 현재 대출 잔액"
   ]
  },
  {
   "cell_type": "code",
   "execution_count": 864,
   "metadata": {},
   "outputs": [],
   "source": [
    "col = \"현재 대출 잔액\""
   ]
  },
  {
   "cell_type": "code",
   "execution_count": 865,
   "metadata": {},
   "outputs": [
    {
     "data": {
      "text/plain": [
       "현재 대출 잔액\n",
       "500809.5    3\n",
       "509760.0    3\n",
       "421759.5    2\n",
       "515760.0    2\n",
       "254529.0    2\n",
       "           ..\n",
       "334506.0    1\n",
       "641737.5    1\n",
       "347431.5    1\n",
       "404622.0    1\n",
       "688386.0    1\n",
       "Name: count, Length: 9897, dtype: int64"
      ]
     },
     "execution_count": 865,
     "metadata": {},
     "output_type": "execute_result"
    }
   ],
   "source": [
    "train[col].value_counts()"
   ]
  },
  {
   "cell_type": "code",
   "execution_count": 866,
   "metadata": {},
   "outputs": [],
   "source": [
    "def preprocess_currentloanbalance_formatting(x):\n",
    "    return x"
   ]
  },
  {
   "cell_type": "code",
   "execution_count": 867,
   "metadata": {},
   "outputs": [
    {
     "data": {
      "text/plain": [
       "0     390903.0\n",
       "1    1002184.5\n",
       "2     227775.0\n",
       "3     251383.5\n",
       "4    1163176.5\n",
       "Name: 현재 대출 잔액, dtype: float64"
      ]
     },
     "execution_count": 867,
     "metadata": {},
     "output_type": "execute_result"
    }
   ],
   "source": [
    "processed = train[col].apply(preprocess_currentloanbalance_formatting)\n",
    "processed.head()"
   ]
  },
  {
   "cell_type": "code",
   "execution_count": 868,
   "metadata": {},
   "outputs": [
    {
     "data": {
      "text/plain": [
       "<Axes: ylabel='Frequency'>"
      ]
     },
     "execution_count": 868,
     "metadata": {},
     "output_type": "execute_result"
    },
    {
     "data": {
      "image/png": "[encoded data removed]",
      "text/plain": [
       "<Figure size 640x480 with 1 Axes>"
      ]
     },
     "metadata": {},
     "output_type": "display_data"
    }
   ],
   "source": [
    "processed.plot(kind='hist', bins=100)"
   ]
  },
  {
   "cell_type": "code",
   "execution_count": 869,
   "metadata": {},
   "outputs": [
    {
     "data": {
      "text/plain": [
       "0.0"
      ]
     },
     "execution_count": 869,
     "metadata": {},
     "output_type": "execute_result"
    }
   ],
   "source": [
    "missingratio = float(processed.isna().sum()/len(train)*100)\n",
    "missingratio"
   ]
  },
  {
   "cell_type": "code",
   "execution_count": 870,
   "metadata": {},
   "outputs": [
    {
     "data": {
      "text/plain": [
       "{'count': 10000.0,\n",
       " 'mean': 506120.0004,\n",
       " 'std': 283146.23273463757,\n",
       " 'min': 29176.5,\n",
       " '25%': 300190.125,\n",
       " '50%': 474341.25,\n",
       " '75%': 591907.875,\n",
       " 'max': 1373613.0}"
      ]
     },
     "execution_count": 870,
     "metadata": {},
     "output_type": "execute_result"
    }
   ],
   "source": [
    "desc = processed.describe().to_dict()\n",
    "desc"
   ]
  },
  {
   "cell_type": "code",
   "execution_count": 871,
   "metadata": {},
   "outputs": [],
   "source": [
    "output[col]['type'] = \"ratio\"\n",
    "output[col]['missingratio'] = missingratio\n",
    "output[col]['describe'] = desc"
   ]
  },
  {
   "cell_type": "markdown",
   "metadata": {},
   "source": [
    "### 4.2.15 현재 미상환 신용액"
   ]
  },
  {
   "cell_type": "code",
   "execution_count": 872,
   "metadata": {},
   "outputs": [],
   "source": [
    "col = \"현재 미상환 신용액\""
   ]
  },
  {
   "cell_type": "code",
   "execution_count": 873,
   "metadata": {},
   "outputs": [
    {
     "data": {
      "text/plain": [
       "현재 미상환 신용액\n",
       "0.0          129\n",
       "157489.5       3\n",
       "92344.5        2\n",
       "214651.5       2\n",
       "96697.5        2\n",
       "            ... \n",
       "1145158.5      1\n",
       "843543.0       1\n",
       "297108.0       1\n",
       "438084.0       1\n",
       "99640.5        1\n",
       "Name: count, Length: 9753, dtype: int64"
      ]
     },
     "execution_count": 873,
     "metadata": {},
     "output_type": "execute_result"
    }
   ],
   "source": [
    "train[col].value_counts()"
   ]
  },
  {
   "cell_type": "code",
   "execution_count": 874,
   "metadata": {},
   "outputs": [],
   "source": [
    "def preprocess_unpaidcredit_formatting(x):\n",
    "    return x"
   ]
  },
  {
   "cell_type": "code",
   "execution_count": 875,
   "metadata": {},
   "outputs": [
    {
     "data": {
      "text/plain": [
       "0    225457.5\n",
       "1     64749.0\n",
       "2    487644.0\n",
       "3    413211.0\n",
       "4     78991.5\n",
       "Name: 현재 미상환 신용액, dtype: float64"
      ]
     },
     "execution_count": 875,
     "metadata": {},
     "output_type": "execute_result"
    }
   ],
   "source": [
    "processed = train[col].apply(preprocess_unpaidcredit_formatting)\n",
    "processed.head()"
   ]
  },
  {
   "cell_type": "code",
   "execution_count": 876,
   "metadata": {},
   "outputs": [
    {
     "data": {
      "text/plain": [
       "<Axes: ylabel='Frequency'>"
      ]
     },
     "execution_count": 876,
     "metadata": {},
     "output_type": "execute_result"
    },
    {
     "data": {
      "image/png": "[encoded data removed]",
      "text/plain": [
       "<Figure size 640x480 with 1 Axes>"
      ]
     },
     "metadata": {},
     "output_type": "display_data"
    }
   ],
   "source": [
    "processed.plot(kind='hist', bins=100)"
   ]
  },
  {
   "cell_type": "code",
   "execution_count": 877,
   "metadata": {},
   "outputs": [
    {
     "data": {
      "text/plain": [
       "0.0"
      ]
     },
     "execution_count": 877,
     "metadata": {},
     "output_type": "execute_result"
    }
   ],
   "source": [
    "missingratio = float(processed.isna().sum()/len(train)*100)\n",
    "missingratio"
   ]
  },
  {
   "cell_type": "code",
   "execution_count": 878,
   "metadata": {},
   "outputs": [
    {
     "data": {
      "text/plain": [
       "{'count': 10000.0,\n",
       " 'mean': 364912.6176,\n",
       " 'std': 353794.16066855536,\n",
       " 'min': 0.0,\n",
       " '25%': 147185.625,\n",
       " '50%': 254793.0,\n",
       " '75%': 474918.0,\n",
       " 'max': 3946300.5}"
      ]
     },
     "execution_count": 878,
     "metadata": {},
     "output_type": "execute_result"
    }
   ],
   "source": [
    "desc = processed.describe().to_dict()\n",
    "desc"
   ]
  },
  {
   "cell_type": "code",
   "execution_count": 879,
   "metadata": {},
   "outputs": [],
   "source": [
    "output[col]['type'] = \"ratio\"\n",
    "output[col]['missingratio'] = missingratio\n",
    "output[col]['describe'] = desc"
   ]
  },
  {
   "cell_type": "markdown",
   "metadata": {},
   "source": [
    "### 4.2.16 월 상환 부채액"
   ]
  },
  {
   "cell_type": "code",
   "execution_count": 880,
   "metadata": {},
   "outputs": [],
   "source": [
    "col = \"월 상환 부채액\""
   ]
  },
  {
   "cell_type": "code",
   "execution_count": 881,
   "metadata": {},
   "outputs": [
    {
     "data": {
      "text/plain": [
       "월 상환 부채액\n",
       "0.0        107\n",
       "10011.0      4\n",
       "10045.5      4\n",
       "12771.0      4\n",
       "9906.0       4\n",
       "          ... \n",
       "27238.5      1\n",
       "21442.5      1\n",
       "4266.0       1\n",
       "28657.5      1\n",
       "57811.5      1\n",
       "Name: count, Length: 8445, dtype: int64"
      ]
     },
     "execution_count": 881,
     "metadata": {},
     "output_type": "execute_result"
    }
   ],
   "source": [
    "train[col].value_counts()"
   ]
  },
  {
   "cell_type": "code",
   "execution_count": 882,
   "metadata": {},
   "outputs": [],
   "source": [
    "def preprocess_monthlydeptpay_formatting(x):\n",
    "    return x"
   ]
  },
  {
   "cell_type": "code",
   "execution_count": 883,
   "metadata": {},
   "outputs": [
    {
     "data": {
      "text/plain": [
       "0     8806.5\n",
       "1    24961.5\n",
       "2    12069.0\n",
       "3    31749.0\n",
       "4     5862.0\n",
       "Name: 월 상환 부채액, dtype: float64"
      ]
     },
     "execution_count": 883,
     "metadata": {},
     "output_type": "execute_result"
    }
   ],
   "source": [
    "processed = train[col].apply(preprocess_monthlydeptpay_formatting)\n",
    "processed.head()"
   ]
  },
  {
   "cell_type": "code",
   "execution_count": 884,
   "metadata": {},
   "outputs": [
    {
     "data": {
      "text/plain": [
       "<Axes: ylabel='Frequency'>"
      ]
     },
     "execution_count": 884,
     "metadata": {},
     "output_type": "execute_result"
    },
    {
     "data": {
      "image/png": "[encoded data removed]",
      "text/plain": [
       "<Figure size 640x480 with 1 Axes>"
      ]
     },
     "metadata": {},
     "output_type": "display_data"
    }
   ],
   "source": [
    "processed.plot(kind='hist', bins=100)"
   ]
  },
  {
   "cell_type": "code",
   "execution_count": 885,
   "metadata": {},
   "outputs": [
    {
     "data": {
      "text/plain": [
       "0.0"
      ]
     },
     "execution_count": 885,
     "metadata": {},
     "output_type": "execute_result"
    }
   ],
   "source": [
    "missingratio = float(processed.isna().sum()/len(train)*100)\n",
    "missingratio"
   ]
  },
  {
   "cell_type": "code",
   "execution_count": 886,
   "metadata": {},
   "outputs": [
    {
     "data": {
      "text/plain": [
       "{'count': 10000.0,\n",
       " 'mean': 22367.28075,\n",
       " 'std': 15186.497380119356,\n",
       " 'min': 0.0,\n",
       " '25%': 10893.75,\n",
       " '50%': 20160.0,\n",
       " '75%': 30647.25,\n",
       " 'max': 153574.5}"
      ]
     },
     "execution_count": 886,
     "metadata": {},
     "output_type": "execute_result"
    }
   ],
   "source": [
    "desc = processed.describe().to_dict()\n",
    "desc"
   ]
  },
  {
   "cell_type": "code",
   "execution_count": 887,
   "metadata": {},
   "outputs": [],
   "source": [
    "output[col]['type'] = \"ratio\"\n",
    "output[col]['missingratio'] = missingratio\n",
    "output[col]['describe'] = desc"
   ]
  },
  {
   "cell_type": "markdown",
   "metadata": {},
   "source": [
    "\n",
    "### 4.2.17 신용 점수"
   ]
  },
  {
   "cell_type": "code",
   "execution_count": 888,
   "metadata": {},
   "outputs": [],
   "source": [
    "col = \"신용 점수\""
   ]
  },
  {
   "cell_type": "code",
   "execution_count": 889,
   "metadata": {},
   "outputs": [
    {
     "data": {
      "text/plain": [
       "신용 점수\n",
       "796    349\n",
       "798    329\n",
       "795    288\n",
       "793    284\n",
       "800    284\n",
       "      ... \n",
       "531      1\n",
       "536      1\n",
       "505      1\n",
       "502      1\n",
       "524      1\n",
       "Name: count, Length: 171, dtype: int64"
      ]
     },
     "execution_count": 889,
     "metadata": {},
     "output_type": "execute_result"
    }
   ],
   "source": [
    "train[col].value_counts()"
   ]
  },
  {
   "cell_type": "code",
   "execution_count": 890,
   "metadata": {},
   "outputs": [],
   "source": [
    "def preprocess_creditscore_formatting(x):\n",
    "    return x"
   ]
  },
  {
   "cell_type": "code",
   "execution_count": 891,
   "metadata": {},
   "outputs": [
    {
     "data": {
      "text/plain": [
       "0    767\n",
       "1    767\n",
       "2    800\n",
       "3    796\n",
       "4    751\n",
       "Name: 신용 점수, dtype: int64"
      ]
     },
     "execution_count": 891,
     "metadata": {},
     "output_type": "execute_result"
    }
   ],
   "source": [
    "processed = train[col].apply(preprocess_creditscore_formatting)\n",
    "processed.head()"
   ]
  },
  {
   "cell_type": "code",
   "execution_count": 892,
   "metadata": {},
   "outputs": [
    {
     "data": {
      "text/plain": [
       "<Axes: ylabel='Frequency'>"
      ]
     },
     "execution_count": 892,
     "metadata": {},
     "output_type": "execute_result"
    },
    {
     "data": {
      "image/png": "[encoded data removed]",
      "text/plain": [
       "<Figure size 640x480 with 1 Axes>"
      ]
     },
     "metadata": {},
     "output_type": "display_data"
    }
   ],
   "source": [
    "processed.plot(kind='hist', bins=100)"
   ]
  },
  {
   "cell_type": "code",
   "execution_count": 893,
   "metadata": {},
   "outputs": [
    {
     "data": {
      "text/plain": [
       "0.0"
      ]
     },
     "execution_count": 893,
     "metadata": {},
     "output_type": "execute_result"
    }
   ],
   "source": [
    "missingratio = float(processed.isna().sum()/len(train)*100)\n",
    "missingratio"
   ]
  },
  {
   "cell_type": "code",
   "execution_count": 894,
   "metadata": {},
   "outputs": [
    {
     "data": {
      "text/plain": [
       "{'count': 10000.0,\n",
       " 'mean': 744.215,\n",
       " 'std': 56.99569831103569,\n",
       " 'min': 502.0,\n",
       " '25%': 704.0,\n",
       " '50%': 756.0,\n",
       " '75%': 793.0,\n",
       " 'max': 825.0}"
      ]
     },
     "execution_count": 894,
     "metadata": {},
     "output_type": "execute_result"
    }
   ],
   "source": [
    "desc = processed.describe().to_dict()\n",
    "desc"
   ]
  },
  {
   "cell_type": "code",
   "execution_count": 895,
   "metadata": {},
   "outputs": [],
   "source": [
    "output[col]['type'] = \"interval\"\n",
    "output[col]['missingratio'] = missingratio\n",
    "output[col]['describe'] = desc"
   ]
  },
  {
   "cell_type": "markdown",
   "metadata": {},
   "source": [
    "### 4.2.18 (target) 채무 불이행 여부"
   ]
  },
  {
   "cell_type": "code",
   "execution_count": 896,
   "metadata": {},
   "outputs": [],
   "source": [
    "col = \"채무 불이행 여부\""
   ]
  },
  {
   "cell_type": "code",
   "execution_count": 897,
   "metadata": {},
   "outputs": [
    {
     "data": {
      "text/plain": [
       "채무 불이행 여부\n",
       "0    6588\n",
       "1    3412\n",
       "Name: count, dtype: int64"
      ]
     },
     "execution_count": 897,
     "metadata": {},
     "output_type": "execute_result"
    }
   ],
   "source": [
    "train[col].value_counts()"
   ]
  },
  {
   "cell_type": "code",
   "execution_count": 898,
   "metadata": {},
   "outputs": [],
   "source": [
    "def preprocess_isdefault_formatting(x):\n",
    "    return x"
   ]
  },
  {
   "cell_type": "code",
   "execution_count": 899,
   "metadata": {},
   "outputs": [
    {
     "data": {
      "text/plain": [
       "0    0\n",
       "1    0\n",
       "2    1\n",
       "3    1\n",
       "4    0\n",
       "Name: 채무 불이행 여부, dtype: int64"
      ]
     },
     "execution_count": 899,
     "metadata": {},
     "output_type": "execute_result"
    }
   ],
   "source": [
    "processed = train[col].apply(preprocess_isdefault_formatting)\n",
    "processed.head()"
   ]
  },
  {
   "cell_type": "code",
   "execution_count": 900,
   "metadata": {},
   "outputs": [
    {
     "data": {
      "text/plain": [
       "<Axes: xlabel='채무 불이행 여부'>"
      ]
     },
     "execution_count": 900,
     "metadata": {},
     "output_type": "execute_result"
    },
    {
     "data": {
      "image/png": "[encoded data removed]",
      "text/plain": [
       "<Figure size 640x480 with 1 Axes>"
      ]
     },
     "metadata": {},
     "output_type": "display_data"
    }
   ],
   "source": [
    "processed.value_counts().plot(kind='bar')"
   ]
  },
  {
   "cell_type": "code",
   "execution_count": 901,
   "metadata": {},
   "outputs": [
    {
     "data": {
      "text/plain": [
       "0.0"
      ]
     },
     "execution_count": 901,
     "metadata": {},
     "output_type": "execute_result"
    }
   ],
   "source": [
    "missingratio = float(processed.isna().sum()/len(train)*100)\n",
    "missingratio"
   ]
  },
  {
   "cell_type": "code",
   "execution_count": 902,
   "metadata": {},
   "outputs": [
    {
     "data": {
      "text/plain": [
       "{'count': 10000, 'unique': 2, 'top': '0', 'freq': 6588}"
      ]
     },
     "execution_count": 902,
     "metadata": {},
     "output_type": "execute_result"
    }
   ],
   "source": [
    "desc = processed.map(str).describe().to_dict()\n",
    "desc"
   ]
  },
  {
   "cell_type": "code",
   "execution_count": 903,
   "metadata": {},
   "outputs": [],
   "source": [
    "output[col]['type'] = \"nominal\"\n",
    "output[col]['missingratio'] = missingratio\n",
    "output[col]['describe'] = desc"
   ]
  },
  {
   "cell_type": "code",
   "execution_count": 904,
   "metadata": {},
   "outputs": [
    {
     "data": {
      "text/html": [
       "<div>\n",
       "<style scoped>\n",
       "    .dataframe tbody tr th:only-of-type {\n",
       "        vertical-align: middle;\n",
       "    }\n",
       "\n",
       "    .dataframe tbody tr th {\n",
       "        vertical-align: top;\n",
       "    }\n",
       "\n",
       "    .dataframe thead th {\n",
       "        text-align: right;\n",
       "    }\n",
       "</style>\n",
       "<table border=\"1\" class=\"dataframe\">\n",
       "  <thead>\n",
       "    <tr style=\"text-align: right;\">\n",
       "      <th></th>\n",
       "      <th>UID</th>\n",
       "      <th>주거 형태</th>\n",
       "      <th>연간 소득</th>\n",
       "      <th>현재 직장 근속 연수</th>\n",
       "      <th>체납 세금 압류 횟수</th>\n",
       "      <th>개설된 신용계좌 수</th>\n",
       "      <th>신용 거래 연수</th>\n",
       "      <th>최대 신용한도</th>\n",
       "      <th>신용 문제 발생 횟수</th>\n",
       "      <th>마지막 연체 이후 경과 개월 수</th>\n",
       "      <th>개인 파산 횟수</th>\n",
       "      <th>대출 목적</th>\n",
       "      <th>대출 상환 기간</th>\n",
       "      <th>현재 대출 잔액</th>\n",
       "      <th>현재 미상환 신용액</th>\n",
       "      <th>월 상환 부채액</th>\n",
       "      <th>신용 점수</th>\n",
       "      <th>채무 불이행 여부</th>\n",
       "    </tr>\n",
       "  </thead>\n",
       "  <tbody>\n",
       "    <tr>\n",
       "      <th>type</th>\n",
       "      <td>interval</td>\n",
       "      <td>nominal</td>\n",
       "      <td>ratio</td>\n",
       "      <td>ordinal</td>\n",
       "      <td>ratio</td>\n",
       "      <td>ratio</td>\n",
       "      <td>ratio</td>\n",
       "      <td>ratio</td>\n",
       "      <td>ratio</td>\n",
       "      <td>ratio</td>\n",
       "      <td>ordinal</td>\n",
       "      <td>nominal</td>\n",
       "      <td>nominal</td>\n",
       "      <td>ratio</td>\n",
       "      <td>ratio</td>\n",
       "      <td>ratio</td>\n",
       "      <td>interval</td>\n",
       "      <td>nominal</td>\n",
       "    </tr>\n",
       "    <tr>\n",
       "      <th>missingratio</th>\n",
       "      <td>0.0</td>\n",
       "      <td>0.0</td>\n",
       "      <td>0.0</td>\n",
       "      <td>0.0</td>\n",
       "      <td>0.0</td>\n",
       "      <td>0.0</td>\n",
       "      <td>0.0</td>\n",
       "      <td>0.0</td>\n",
       "      <td>0.0</td>\n",
       "      <td>0.0</td>\n",
       "      <td>0.0</td>\n",
       "      <td>0.0</td>\n",
       "      <td>0.0</td>\n",
       "      <td>0.0</td>\n",
       "      <td>0.0</td>\n",
       "      <td>0.0</td>\n",
       "      <td>0.0</td>\n",
       "      <td>0.0</td>\n",
       "    </tr>\n",
       "    <tr>\n",
       "      <th>describe</th>\n",
       "      <td>{'count': 10000.0, 'mean': 4999.5, 'std': 2886...</td>\n",
       "      <td>{'count': 10000, 'unique': 4, 'top': '월세', 'fr...</td>\n",
       "      <td>{'count': 10000.0, 'mean': 2163958.88415, 'std...</td>\n",
       "      <td>{'count': 10000, 'unique': 10, 'top': '10', 'f...</td>\n",
       "      <td>{'count': 10000.0, 'mean': 0.1993, 'std': 0.71...</td>\n",
       "      <td>{'count': 10000.0, 'mean': 12.2489, 'std': 4.6...</td>\n",
       "      <td>{'count': 10000.0, 'mean': 19.879360000000002,...</td>\n",
       "      <td>{'count': 10000.0, 'mean': 1175264.7378, 'std'...</td>\n",
       "      <td>{'count': 10000.0, 'mean': 0.6262, 'std': 1.23...</td>\n",
       "      <td>{'count': 10000.0, 'mean': 30.8892, 'std': 20....</td>\n",
       "      <td>{'count': 10000.0, 'mean': 0.3732, 'std': 0.84...</td>\n",
       "      <td>{'count': 10000, 'unique': 14, 'top': '부채 통합',...</td>\n",
       "      <td>{'count': 10000, 'unique': 2, 'top': '단기 상환', ...</td>\n",
       "      <td>{'count': 10000.0, 'mean': 506120.0004, 'std':...</td>\n",
       "      <td>{'count': 10000.0, 'mean': 364912.6176, 'std':...</td>\n",
       "      <td>{'count': 10000.0, 'mean': 22367.28075, 'std':...</td>\n",
       "      <td>{'count': 10000.0, 'mean': 744.215, 'std': 56....</td>\n",
       "      <td>{'count': 10000, 'unique': 2, 'top': '0', 'fre...</td>\n",
       "    </tr>\n",
       "  </tbody>\n",
       "</table>\n",
       "</div>"
      ],
      "text/plain": [
       "                                                            UID  \\\n",
       "type                                                   interval   \n",
       "missingratio                                                0.0   \n",
       "describe      {'count': 10000.0, 'mean': 4999.5, 'std': 2886...   \n",
       "\n",
       "                                                          주거 형태  \\\n",
       "type                                                    nominal   \n",
       "missingratio                                                0.0   \n",
       "describe      {'count': 10000, 'unique': 4, 'top': '월세', 'fr...   \n",
       "\n",
       "                                                          연간 소득  \\\n",
       "type                                                      ratio   \n",
       "missingratio                                                0.0   \n",
       "describe      {'count': 10000.0, 'mean': 2163958.88415, 'std...   \n",
       "\n",
       "                                                    현재 직장 근속 연수  \\\n",
       "type                                                    ordinal   \n",
       "missingratio                                                0.0   \n",
       "describe      {'count': 10000, 'unique': 10, 'top': '10', 'f...   \n",
       "\n",
       "                                                    체납 세금 압류 횟수  \\\n",
       "type                                                      ratio   \n",
       "missingratio                                                0.0   \n",
       "describe      {'count': 10000.0, 'mean': 0.1993, 'std': 0.71...   \n",
       "\n",
       "                                                     개설된 신용계좌 수  \\\n",
       "type                                                      ratio   \n",
       "missingratio                                                0.0   \n",
       "describe      {'count': 10000.0, 'mean': 12.2489, 'std': 4.6...   \n",
       "\n",
       "                                                       신용 거래 연수  \\\n",
       "type                                                      ratio   \n",
       "missingratio                                                0.0   \n",
       "describe      {'count': 10000.0, 'mean': 19.879360000000002,...   \n",
       "\n",
       "                                                        최대 신용한도  \\\n",
       "type                                                      ratio   \n",
       "missingratio                                                0.0   \n",
       "describe      {'count': 10000.0, 'mean': 1175264.7378, 'std'...   \n",
       "\n",
       "                                                    신용 문제 발생 횟수  \\\n",
       "type                                                      ratio   \n",
       "missingratio                                                0.0   \n",
       "describe      {'count': 10000.0, 'mean': 0.6262, 'std': 1.23...   \n",
       "\n",
       "                                              마지막 연체 이후 경과 개월 수  \\\n",
       "type                                                      ratio   \n",
       "missingratio                                                0.0   \n",
       "describe      {'count': 10000.0, 'mean': 30.8892, 'std': 20....   \n",
       "\n",
       "                                                       개인 파산 횟수  \\\n",
       "type                                                    ordinal   \n",
       "missingratio                                                0.0   \n",
       "describe      {'count': 10000.0, 'mean': 0.3732, 'std': 0.84...   \n",
       "\n",
       "                                                          대출 목적  \\\n",
       "type                                                    nominal   \n",
       "missingratio                                                0.0   \n",
       "describe      {'count': 10000, 'unique': 14, 'top': '부채 통합',...   \n",
       "\n",
       "                                                       대출 상환 기간  \\\n",
       "type                                                    nominal   \n",
       "missingratio                                                0.0   \n",
       "describe      {'count': 10000, 'unique': 2, 'top': '단기 상환', ...   \n",
       "\n",
       "                                                       현재 대출 잔액  \\\n",
       "type                                                      ratio   \n",
       "missingratio                                                0.0   \n",
       "describe      {'count': 10000.0, 'mean': 506120.0004, 'std':...   \n",
       "\n",
       "                                                     현재 미상환 신용액  \\\n",
       "type                                                      ratio   \n",
       "missingratio                                                0.0   \n",
       "describe      {'count': 10000.0, 'mean': 364912.6176, 'std':...   \n",
       "\n",
       "                                                       월 상환 부채액  \\\n",
       "type                                                      ratio   \n",
       "missingratio                                                0.0   \n",
       "describe      {'count': 10000.0, 'mean': 22367.28075, 'std':...   \n",
       "\n",
       "                                                          신용 점수  \\\n",
       "type                                                   interval   \n",
       "missingratio                                                0.0   \n",
       "describe      {'count': 10000.0, 'mean': 744.215, 'std': 56....   \n",
       "\n",
       "                                                      채무 불이행 여부  \n",
       "type                                                    nominal  \n",
       "missingratio                                                0.0  \n",
       "describe      {'count': 10000, 'unique': 2, 'top': '0', 'fre...  "
      ]
     },
     "execution_count": 904,
     "metadata": {},
     "output_type": "execute_result"
    }
   ],
   "source": [
    "pd.DataFrame(output)"
   ]
  },
  {
   "cell_type": "markdown",
   "metadata": {},
   "source": [
    "## 4.3 formatting"
   ]
  },
  {
   "cell_type": "code",
   "execution_count": 905,
   "metadata": {},
   "outputs": [
    {
     "name": "stdout",
     "output_type": "stream",
     "text": [
      "['preprocess_uid_formatting', 'preprocess_housetype_formatting', 'preprocess_yearincome_formatting', 'preprocess_tenure_formatting', 'preprocess_seizurecount_formatting', 'preprocess_accountcount_formatting', 'preprocess_credityear_formatting', 'preprocess_creditlimit_formatting', 'preprocess_creditissuecount_formatting', 'preprocess_delinquencyfrom_formatting', 'preprocess_bankruptcycount_formatting', 'preprocess_loanpurpose_formatting', 'preprocess_loanterm_formatting', 'preprocess_currentloanbalance_formatting', 'preprocess_unpaidcredit_formatting', 'preprocess_monthlydeptpay_formatting', 'preprocess_creditscore_formatting', 'preprocess_isdefault_formatting']\n"
     ]
    }
   ],
   "source": [
    "import types\n",
    "\n",
    "function_list = [name for name, obj in globals().items() if isinstance(obj, types.FunctionType) and 'preprocess' in name]\n",
    "print(function_list)"
   ]
  },
  {
   "cell_type": "code",
   "execution_count": 906,
   "metadata": {},
   "outputs": [
    {
     "name": "stdout",
     "output_type": "stream",
     "text": [
      "def preprocess_uid_formatting(x):\n",
      "    return int(x.replace(\"TRAIN_\", \"\"))\n",
      "\n",
      "def preprocess_tenure_formatting(x):\n",
      "    return int(re.findall(r'\\d+', x)[0])\n",
      "\n"
     ]
    }
   ],
   "source": [
    "import inspect\n",
    "\n",
    "for i in function_list:\n",
    "    code = inspect.getsource(eval(i)) \n",
    "    if 'return x' not in code:\n",
    "        print(code)"
   ]
  },
  {
   "cell_type": "code",
   "execution_count": 907,
   "metadata": {},
   "outputs": [],
   "source": [
    "def preprocess_uid_formatting(x):\n",
    "    return int(x.replace(\"TRAIN_\", \"\"))\n",
    "\n",
    "def preprocess_tenure_formatting(x):\n",
    "    return int(re.findall(r'\\d+', x)[0])\n",
    "\n",
    "def pipeline_0(df_):\n",
    "    df = df_.copy()\n",
    "    df['UID'] = df['UID'].apply(preprocess_uid_formatting)\n",
    "    df.set_index(\"UID\", inplace = True)\n",
    "    df['현재 직장 근속 연수'] = df['현재 직장 근속 연수'].apply(preprocess_tenure_formatting)\n",
    "    return df"
   ]
  },
  {
   "cell_type": "code",
   "execution_count": 908,
   "metadata": {},
   "outputs": [],
   "source": [
    "formatted = pipeline_0(train)"
   ]
  },
  {
   "cell_type": "code",
   "execution_count": 909,
   "metadata": {},
   "outputs": [
    {
     "data": {
      "text/html": [
       "<div>\n",
       "<style scoped>\n",
       "    .dataframe tbody tr th:only-of-type {\n",
       "        vertical-align: middle;\n",
       "    }\n",
       "\n",
       "    .dataframe tbody tr th {\n",
       "        vertical-align: top;\n",
       "    }\n",
       "\n",
       "    .dataframe thead th {\n",
       "        text-align: right;\n",
       "    }\n",
       "</style>\n",
       "<table border=\"1\" class=\"dataframe\">\n",
       "  <thead>\n",
       "    <tr style=\"text-align: right;\">\n",
       "      <th></th>\n",
       "      <th>주거 형태</th>\n",
       "      <th>연간 소득</th>\n",
       "      <th>현재 직장 근속 연수</th>\n",
       "      <th>체납 세금 압류 횟수</th>\n",
       "      <th>개설된 신용계좌 수</th>\n",
       "      <th>신용 거래 연수</th>\n",
       "      <th>최대 신용한도</th>\n",
       "      <th>신용 문제 발생 횟수</th>\n",
       "      <th>마지막 연체 이후 경과 개월 수</th>\n",
       "      <th>개인 파산 횟수</th>\n",
       "      <th>대출 목적</th>\n",
       "      <th>대출 상환 기간</th>\n",
       "      <th>현재 대출 잔액</th>\n",
       "      <th>현재 미상환 신용액</th>\n",
       "      <th>월 상환 부채액</th>\n",
       "      <th>신용 점수</th>\n",
       "      <th>채무 불이행 여부</th>\n",
       "    </tr>\n",
       "    <tr>\n",
       "      <th>UID</th>\n",
       "      <th></th>\n",
       "      <th></th>\n",
       "      <th></th>\n",
       "      <th></th>\n",
       "      <th></th>\n",
       "      <th></th>\n",
       "      <th></th>\n",
       "      <th></th>\n",
       "      <th></th>\n",
       "      <th></th>\n",
       "      <th></th>\n",
       "      <th></th>\n",
       "      <th></th>\n",
       "      <th></th>\n",
       "      <th></th>\n",
       "      <th></th>\n",
       "      <th></th>\n",
       "    </tr>\n",
       "  </thead>\n",
       "  <tbody>\n",
       "    <tr>\n",
       "      <th>0</th>\n",
       "      <td>자가</td>\n",
       "      <td>1941337.5</td>\n",
       "      <td>10</td>\n",
       "      <td>0.0</td>\n",
       "      <td>9</td>\n",
       "      <td>13.4</td>\n",
       "      <td>400597.5</td>\n",
       "      <td>0</td>\n",
       "      <td>24</td>\n",
       "      <td>1</td>\n",
       "      <td>부채 통합</td>\n",
       "      <td>단기 상환</td>\n",
       "      <td>390903.0</td>\n",
       "      <td>225457.5</td>\n",
       "      <td>8806.5</td>\n",
       "      <td>767</td>\n",
       "      <td>0</td>\n",
       "    </tr>\n",
       "    <tr>\n",
       "      <th>1</th>\n",
       "      <td>월세</td>\n",
       "      <td>1979505.0</td>\n",
       "      <td>10</td>\n",
       "      <td>0.0</td>\n",
       "      <td>5</td>\n",
       "      <td>15.1</td>\n",
       "      <td>360679.5</td>\n",
       "      <td>0</td>\n",
       "      <td>11</td>\n",
       "      <td>0</td>\n",
       "      <td>부채 통합</td>\n",
       "      <td>단기 상환</td>\n",
       "      <td>1002184.5</td>\n",
       "      <td>64749.0</td>\n",
       "      <td>24961.5</td>\n",
       "      <td>767</td>\n",
       "      <td>0</td>\n",
       "    </tr>\n",
       "    <tr>\n",
       "      <th>2</th>\n",
       "      <td>월세</td>\n",
       "      <td>1356381.0</td>\n",
       "      <td>4</td>\n",
       "      <td>0.0</td>\n",
       "      <td>12</td>\n",
       "      <td>18.8</td>\n",
       "      <td>491770.5</td>\n",
       "      <td>1</td>\n",
       "      <td>74</td>\n",
       "      <td>3</td>\n",
       "      <td>부채 통합</td>\n",
       "      <td>단기 상환</td>\n",
       "      <td>227775.0</td>\n",
       "      <td>487644.0</td>\n",
       "      <td>12069.0</td>\n",
       "      <td>800</td>\n",
       "      <td>1</td>\n",
       "    </tr>\n",
       "    <tr>\n",
       "      <th>3</th>\n",
       "      <td>월세</td>\n",
       "      <td>1049017.5</td>\n",
       "      <td>6</td>\n",
       "      <td>0.0</td>\n",
       "      <td>15</td>\n",
       "      <td>14.8</td>\n",
       "      <td>411546.0</td>\n",
       "      <td>1</td>\n",
       "      <td>22</td>\n",
       "      <td>1</td>\n",
       "      <td>부채 통합</td>\n",
       "      <td>단기 상환</td>\n",
       "      <td>251383.5</td>\n",
       "      <td>413211.0</td>\n",
       "      <td>31749.0</td>\n",
       "      <td>796</td>\n",
       "      <td>1</td>\n",
       "    </tr>\n",
       "    <tr>\n",
       "      <th>4</th>\n",
       "      <td>월세</td>\n",
       "      <td>4320217.5</td>\n",
       "      <td>2</td>\n",
       "      <td>0.0</td>\n",
       "      <td>11</td>\n",
       "      <td>26.1</td>\n",
       "      <td>895288.5</td>\n",
       "      <td>0</td>\n",
       "      <td>32</td>\n",
       "      <td>0</td>\n",
       "      <td>부채 통합</td>\n",
       "      <td>장기 상환</td>\n",
       "      <td>1163176.5</td>\n",
       "      <td>78991.5</td>\n",
       "      <td>5862.0</td>\n",
       "      <td>751</td>\n",
       "      <td>0</td>\n",
       "    </tr>\n",
       "  </tbody>\n",
       "</table>\n",
       "</div>"
      ],
      "text/plain": [
       "    주거 형태      연간 소득  현재 직장 근속 연수  체납 세금 압류 횟수  개설된 신용계좌 수  신용 거래 연수  \\\n",
       "UID                                                                    \n",
       "0      자가  1941337.5           10          0.0           9      13.4   \n",
       "1      월세  1979505.0           10          0.0           5      15.1   \n",
       "2      월세  1356381.0            4          0.0          12      18.8   \n",
       "3      월세  1049017.5            6          0.0          15      14.8   \n",
       "4      월세  4320217.5            2          0.0          11      26.1   \n",
       "\n",
       "      최대 신용한도  신용 문제 발생 횟수  마지막 연체 이후 경과 개월 수  개인 파산 횟수  대출 목적 대출 상환 기간  \\\n",
       "UID                                                                       \n",
       "0    400597.5            0                 24         1  부채 통합    단기 상환   \n",
       "1    360679.5            0                 11         0  부채 통합    단기 상환   \n",
       "2    491770.5            1                 74         3  부채 통합    단기 상환   \n",
       "3    411546.0            1                 22         1  부채 통합    단기 상환   \n",
       "4    895288.5            0                 32         0  부채 통합    장기 상환   \n",
       "\n",
       "      현재 대출 잔액  현재 미상환 신용액  월 상환 부채액  신용 점수  채무 불이행 여부  \n",
       "UID                                                     \n",
       "0     390903.0    225457.5    8806.5    767          0  \n",
       "1    1002184.5     64749.0   24961.5    767          0  \n",
       "2     227775.0    487644.0   12069.0    800          1  \n",
       "3     251383.5    413211.0   31749.0    796          1  \n",
       "4    1163176.5     78991.5    5862.0    751          0  "
      ]
     },
     "execution_count": 909,
     "metadata": {},
     "output_type": "execute_result"
    }
   ],
   "source": [
    "formatted.head()"
   ]
  },
  {
   "cell_type": "code",
   "execution_count": 949,
   "metadata": {},
   "outputs": [],
   "source": [
    "import json\n",
    "\n",
    "with open(\"EDA_result.json\", \"w\") as f:\n",
    "    json.dump(output, f, ensure_ascii = False)"
   ]
  }
 ],
 "metadata": {
  "kernelspec": {
   "display_name": "template",
   "language": "python",
   "name": "template"
  },
  "language_info": {
   "codemirror_mode": {
    "name": "ipython",
    "version": 3
   },
   "file_extension": ".py",
   "mimetype": "text/x-python",
   "name": "python",
   "nbconvert_exporter": "python",
   "pygments_lexer": "ipython3",
   "version": "3.11.11"
  }
 },
 "nbformat": 4,
 "nbformat_minor": 2
}
