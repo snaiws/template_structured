{
 "cells": [
  {
   "cell_type": "markdown",
   "id": "0e2983b9",
   "metadata": {},
   "source": [
    "# 1. Import"
   ]
  },
  {
   "cell_type": "code",
   "execution_count": 1,
   "id": "56c79fd8",
   "metadata": {},
   "outputs": [],
   "source": [
    "import pandas as pd\n",
    "import numpy as np\n",
    "from sklearn.model_selection import train_test_split"
   ]
  },
  {
   "cell_type": "markdown",
   "id": "74dcd320",
   "metadata": {},
   "source": [
    "# 2. Data"
   ]
  },
  {
   "cell_type": "code",
   "execution_count": 2,
   "id": "4fee173a",
   "metadata": {},
   "outputs": [],
   "source": [
    "path_train = \"/workspace/Storage/template_structured/Data/raw/train.csv\""
   ]
  },
  {
   "cell_type": "code",
   "execution_count": 3,
   "id": "2e972c2e",
   "metadata": {},
   "outputs": [],
   "source": [
    "train = pd.read_csv(path_train)"
   ]
  },
  {
   "cell_type": "markdown",
   "id": "a1588f3e",
   "metadata": {},
   "source": [
    "# 3. Objective"
   ]
  },
  {
   "cell_type": "markdown",
   "id": "ea9664ba",
   "metadata": {},
   "source": [
    "sampling"
   ]
  },
  {
   "cell_type": "markdown",
   "id": "1c73b01a",
   "metadata": {},
   "source": [
    "# 4. Analysis"
   ]
  },
  {
   "cell_type": "code",
   "execution_count": 5,
   "id": "5caf2e57",
   "metadata": {},
   "outputs": [],
   "source": [
    "train, val = train_test_split(train, test_size=0.4, random_state=42)\n",
    "val, test = train_test_split(val, test_size=0.5, random_state=42)"
   ]
  },
  {
   "cell_type": "code",
   "execution_count": 6,
   "id": "6818c8f7",
   "metadata": {},
   "outputs": [
    {
     "data": {
      "text/plain": [
       "((6000, 18), (2000, 18), (2000, 18))"
      ]
     },
     "execution_count": 6,
     "metadata": {},
     "output_type": "execute_result"
    }
   ],
   "source": [
    "train.shape, val.shape, test.shape"
   ]
  },
  {
   "cell_type": "code",
   "execution_count": 7,
   "id": "12d10ebd",
   "metadata": {},
   "outputs": [],
   "source": [
    "path_sample_train = \"/workspace/Storage/template_structured/Data/sample/v1/train.csv\"\n",
    "path_sample_val = \"/workspace/Storage/template_structured/Data/sample/v1/val.csv\"\n",
    "path_sample_test = \"/workspace/Storage/template_structured/Data/sample/v1/test.csv\""
   ]
  },
  {
   "cell_type": "code",
   "execution_count": 8,
   "id": "39593fd7",
   "metadata": {},
   "outputs": [],
   "source": [
    "train.to_csv(path_sample_train, index = False)\n",
    "val.to_csv(path_sample_val, index = False)\n",
    "test.to_csv(path_sample_test, index = False)"
   ]
  }
 ],
 "metadata": {
  "kernelspec": {
   "display_name": "template",
   "language": "python",
   "name": "template"
  },
  "language_info": {
   "codemirror_mode": {
    "name": "ipython",
    "version": 3
   },
   "file_extension": ".py",
   "mimetype": "text/x-python",
   "name": "python",
   "nbconvert_exporter": "python",
   "pygments_lexer": "ipython3",
   "version": "3.11.11"
  }
 },
 "nbformat": 4,
 "nbformat_minor": 5
}
